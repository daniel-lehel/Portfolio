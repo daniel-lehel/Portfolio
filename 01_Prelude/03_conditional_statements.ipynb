{
 "cells": [
  {
   "cell_type": "markdown",
   "id": "15166ecf",
   "metadata": {},
   "source": [
    "# Conditional statements"
   ]
  },
  {
   "cell_type": "markdown",
   "id": "6d2ac1ed",
   "metadata": {},
   "source": [
    "## 01 IF"
   ]
  },
  {
   "cell_type": "code",
   "execution_count": 1,
   "id": "5eb1710b",
   "metadata": {},
   "outputs": [
    {
     "name": "stdout",
     "output_type": "stream",
     "text": [
      "200 is greater than 33\n"
     ]
    }
   ],
   "source": [
    "a = 33\n",
    "b = 200\n",
    "if b > a:\n",
    "  print(f'{b} is greater than {a}')"
   ]
  },
  {
   "cell_type": "markdown",
   "id": "ff316043",
   "metadata": {},
   "source": [
    "## 02 ELIF"
   ]
  },
  {
   "cell_type": "code",
   "execution_count": 2,
   "id": "436491ef",
   "metadata": {},
   "outputs": [
    {
     "name": "stdout",
     "output_type": "stream",
     "text": [
      "33 and 33 are equal\n"
     ]
    }
   ],
   "source": [
    "a = 33\n",
    "b = 33\n",
    "if b > a:\n",
    "  print(f'{b} is greater than {a}')\n",
    "elif a == b:\n",
    "  print(f'{a} and {b} are equal')"
   ]
  },
  {
   "cell_type": "markdown",
   "id": "2204f69a",
   "metadata": {},
   "source": [
    "## 03 ELSE"
   ]
  },
  {
   "cell_type": "code",
   "execution_count": 3,
   "id": "e5f4823e",
   "metadata": {},
   "outputs": [
    {
     "name": "stdout",
     "output_type": "stream",
     "text": [
      "200 is greater than 33\n"
     ]
    }
   ],
   "source": [
    "a = 200\n",
    "b = 33\n",
    "if b > a:\n",
    "  print(f'{b} is greater than {a}')\n",
    "elif a == b:\n",
    "  print(f'{a} and {b} are equal')\n",
    "else:\n",
    "  print(f'{a} is greater than {b}')"
   ]
  }
 ],
 "metadata": {
  "kernelspec": {
   "display_name": ".venv",
   "language": "python",
   "name": "python3"
  },
  "language_info": {
   "codemirror_mode": {
    "name": "ipython",
    "version": 3
   },
   "file_extension": ".py",
   "mimetype": "text/x-python",
   "name": "python",
   "nbconvert_exporter": "python",
   "pygments_lexer": "ipython3",
   "version": "3.12.7"
  }
 },
 "nbformat": 4,
 "nbformat_minor": 5
}
