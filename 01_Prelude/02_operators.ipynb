{
 "cells": [
  {
   "cell_type": "markdown",
   "id": "dfd95cd2",
   "metadata": {},
   "source": [
    "# Operators"
   ]
  },
  {
   "cell_type": "markdown",
   "id": "e3990cb7",
   "metadata": {},
   "source": [
    "## 01 Arithmetic operators"
   ]
  },
  {
   "cell_type": "code",
   "execution_count": 1,
   "id": "f724e97c",
   "metadata": {},
   "outputs": [
    {
     "name": "stdout",
     "output_type": "stream",
     "text": [
      "13\n",
      "9\n",
      "22\n",
      "5.5\n",
      "1\n",
      "5\n",
      "121\n"
     ]
    }
   ],
   "source": [
    "a = 11\n",
    "b = 2\n",
    "\n",
    "print(a + b)    # Addition\n",
    "print(a - b)    # Subtraction\n",
    "print(a * b)    # Multiplication\n",
    "print(a / b)    # Division\n",
    "print(a % b)    # Modulus\n",
    "print(a // b)   # Floor division\n",
    "print(a ** b )  # Exponentation"
   ]
  },
  {
   "cell_type": "markdown",
   "id": "ea03d70a",
   "metadata": {},
   "source": [
    "## 02 Assignment operators"
   ]
  },
  {
   "cell_type": "code",
   "execution_count": 2,
   "id": "93ef5698",
   "metadata": {},
   "outputs": [
    {
     "name": "stdout",
     "output_type": "stream",
     "text": [
      "3\n"
     ]
    }
   ],
   "source": [
    "x = 5           # x = 5\n",
    "# ----------------------------------------\n",
    "x += 3\t        # x = x + 3\t\n",
    "# ----------------------------------------\n",
    "x -= 3\t        # x = x - 3\n",
    "# ----------------------------------------\n",
    "x *= 3\t        # x = x * 3\n",
    "# ----------------------------------------\n",
    "x /= 3\t        # x = x / 3\n",
    "# ----------------------------------------\n",
    "x %= 3\t        # x = x % 3\n",
    "# ----------------------------------------\n",
    "x //= 3\t        # x = x // 3\n",
    "# ----------------------------------------\n",
    "x **= 3\t        # x = x ** 3\n",
    "# ----------------------------------------\n",
    "x = 5\t\n",
    "x &= 3\t        # x = x & 3\n",
    "# ----------------------------------------\n",
    "x = 5\n",
    "x |= 3\t        # x = x | 3\n",
    "# ----------------------------------------\n",
    "x = 5\n",
    "x ^= 3\t        # x = x ^ 3\n",
    "# ----------------------------------------\n",
    "x >>= 3\t        # x = x >> 3\n",
    "# ----------------------------------------\n",
    "x <<= 3\t        # x = x << 3\n",
    "# ----------------------------------------\n",
    "print(x := 3)\t# x = 3\n",
    "                # print(x)"
   ]
  },
  {
   "cell_type": "markdown",
   "id": "16578054",
   "metadata": {},
   "source": [
    "## 03 Comparison operators"
   ]
  },
  {
   "cell_type": "code",
   "execution_count": 3,
   "id": "f7e42af1",
   "metadata": {},
   "outputs": [
    {
     "name": "stdout",
     "output_type": "stream",
     "text": [
      "False\n",
      "True\n",
      "True\n",
      "False\n",
      "True\n",
      "False\n"
     ]
    }
   ],
   "source": [
    "x = 5\n",
    "y = 3\n",
    "\n",
    "print(x == y)\t# Equal\n",
    "print(x != y)\t# Not equal\n",
    "print(x > y)\t# Greater than\n",
    "print(x < y)\t# Less than\n",
    "print(x >= y)\t# Greater than or equal to\n",
    "print(x <= y)   # Less than or equal to"
   ]
  },
  {
   "cell_type": "markdown",
   "id": "0ee9c6a8",
   "metadata": {},
   "source": [
    "## 04 Logical operators"
   ]
  },
  {
   "cell_type": "code",
   "execution_count": 6,
   "id": "9e15b5fe",
   "metadata": {},
   "outputs": [
    {
     "name": "stdout",
     "output_type": "stream",
     "text": [
      "False\n",
      "False\n",
      "True\n"
     ]
    }
   ],
   "source": [
    "x = 5\n",
    "\n",
    "print(x < 5 and  x < 10)     # Returns True if both statements are true\n",
    "print(x < 5 or x < 4)        # Returns True if one of the statements is true\n",
    "print(not(x < 5 and x < 10)) # Reverse the result, returns False if the result is true"
   ]
  },
  {
   "cell_type": "markdown",
   "id": "435197e8",
   "metadata": {},
   "source": [
    "## 05 Identity operators"
   ]
  },
  {
   "cell_type": "code",
   "execution_count": 7,
   "id": "ff4f6917",
   "metadata": {},
   "outputs": [
    {
     "name": "stdout",
     "output_type": "stream",
     "text": [
      "True\n",
      "False\n",
      "True\n",
      "False\n"
     ]
    }
   ],
   "source": [
    "x = [\"apple\", \"banana\"]\n",
    "y = [\"apple\", \"banana\"]\n",
    "z = x\n",
    "\n",
    "print(x is z)       # Returns True if both variables are the same object\n",
    "print(x is y)\t\t# Returns True if both variables are the same object\n",
    "print(x is not y)   # Returns True if both variables are not the same object\n",
    "print(x is not z)   # Returns True if both variables are not the same object\t"
   ]
  },
  {
   "cell_type": "markdown",
   "id": "aea10f94",
   "metadata": {},
   "source": [
    "## 06 Membership operators"
   ]
  },
  {
   "cell_type": "code",
   "execution_count": 8,
   "id": "e955f011",
   "metadata": {},
   "outputs": [
    {
     "name": "stdout",
     "output_type": "stream",
     "text": [
      "True\n",
      "False\n"
     ]
    }
   ],
   "source": [
    "x = \"apple\"\n",
    "y = [\"apple\", \"banana\"]\n",
    "\n",
    "print(x in y)        # Returns True if a sequence with the specified value is present in the object\n",
    "print(x not in y)    # Returns True if a sequence with the specified value is not present in the object\t"
   ]
  }
 ],
 "metadata": {
  "kernelspec": {
   "display_name": ".venv",
   "language": "python",
   "name": "python3"
  },
  "language_info": {
   "codemirror_mode": {
    "name": "ipython",
    "version": 3
   },
   "file_extension": ".py",
   "mimetype": "text/x-python",
   "name": "python",
   "nbconvert_exporter": "python",
   "pygments_lexer": "ipython3",
   "version": "3.12.7"
  }
 },
 "nbformat": 4,
 "nbformat_minor": 5
}
