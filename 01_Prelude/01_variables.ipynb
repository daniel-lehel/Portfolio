{
 "cells": [
  {
   "cell_type": "markdown",
   "id": "633ff47d",
   "metadata": {},
   "source": [
    "# Variables and data types"
   ]
  },
  {
   "cell_type": "markdown",
   "id": "836d0d38",
   "metadata": {},
   "source": [
    "## 01 Define variables"
   ]
  },
  {
   "cell_type": "code",
   "execution_count": 1,
   "id": "1ffed1b3",
   "metadata": {},
   "outputs": [],
   "source": [
    "a = \"Hello World\"\n",
    "b = 20\t\n",
    "c = 20.5\n",
    "d = 1j\n",
    "e = [\"apple\", \"banana\", \"cherry\"]\n",
    "f = (\"apple\", \"banana\", \"cherry\")\n",
    "g = range(6)\n",
    "h = {\"name\" : \"John\", \"age\" : 36}\n",
    "i = {\"apple\", \"banana\", \"cherry\"}\n",
    "j = frozenset({\"apple\", \"banana\", \"cherry\"})\n",
    "k = True\n",
    "l = b\"Hello\"\n",
    "m = bytearray(5)\n",
    "n = memoryview(bytes(5))\n",
    "o = None"
   ]
  },
  {
   "cell_type": "markdown",
   "id": "fddb8953",
   "metadata": {},
   "source": [
    "## 02 Print out variable values and data types"
   ]
  },
  {
   "cell_type": "code",
   "execution_count": 8,
   "id": "8f4b2956",
   "metadata": {},
   "outputs": [
    {
     "name": "stdout",
     "output_type": "stream",
     "text": [
      "a = Hello World, type of variable: <class 'str'>,\n",
      "b = 20, type of variable: <class 'int'>,\n",
      "c = 20.5, type of variable: <class 'float'>,      \n",
      "d = 1j, type of variable: <class 'complex'>,\n",
      "e = ['apple', 'banana', 'cherry'], type of variable: <class 'list'>,\n",
      "f = ('apple', 'banana', 'cherry'), type of variable: <class 'tuple'>,      \n",
      "g = range(0, 6), type of variable: <class 'range'>,\n",
      "h = {'name': 'John', 'age': 36}, type of variable: <class 'dict'>,\n",
      "i = {'banana', 'apple', 'cherry'}, type of variable: <class 'set'>,      \n",
      "j = frozenset({'banana', 'apple', 'cherry'}), type of variable: <class 'frozenset'>,\n",
      "k = True, type of variable: <class 'bool'>,\n",
      "l = b'Hello', type of variable: <class 'bytes'>,      \n",
      "m = bytearray(b'\\x00\\x00\\x00\\x00\\x00'), type of variable: <class 'bytearray'>,\n",
      "n = <memory at 0x00000228E8959480>, type of variable: <class 'memoryview'>,\n",
      "o = None, type of variable: <class 'NoneType'>,\n"
     ]
    }
   ],
   "source": [
    "print(f'a = {a}, type of variable: {type(a)},\\nb = {b}, type of variable: {type(b)},\\nc = {c}, type of variable: {type(c)},\\\n",
    "      \\nd = {d}, type of variable: {type(d)},\\ne = {e}, type of variable: {type(e)},\\nf = {f}, type of variable: {type(f)},\\\n",
    "      \\ng = {g}, type of variable: {type(g)},\\nh = {h}, type of variable: {type(h)},\\ni = {i}, type of variable: {type(i)},\\\n",
    "      \\nj = {j}, type of variable: {type(j)},\\nk = {k}, type of variable: {type(k)},\\nl = {l}, type of variable: {type(l)},\\\n",
    "      \\nm = {m}, type of variable: {type(m)},\\nn = {n}, type of variable: {type(n)},\\no = {o}, type of variable: {type(o)},')"
   ]
  }
 ],
 "metadata": {
  "kernelspec": {
   "display_name": ".venv",
   "language": "python",
   "name": "python3"
  },
  "language_info": {
   "codemirror_mode": {
    "name": "ipython",
    "version": 3
   },
   "file_extension": ".py",
   "mimetype": "text/x-python",
   "name": "python",
   "nbconvert_exporter": "python",
   "pygments_lexer": "ipython3",
   "version": "3.12.7"
  }
 },
 "nbformat": 4,
 "nbformat_minor": 5
}
