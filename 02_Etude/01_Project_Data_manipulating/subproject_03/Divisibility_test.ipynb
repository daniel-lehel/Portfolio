{
 "cells": [
  {
   "cell_type": "markdown",
   "id": "b5347dbf-5d15-4dfd-ab2f-2947fc8ba70e",
   "metadata": {},
   "source": [
    "# Divisibility test on data from the user"
   ]
  },
  {
   "cell_type": "markdown",
   "id": "c0258917-7e19-4a69-8c58-0e0097fb64bf",
   "metadata": {},
   "source": [
    "## 01 User input"
   ]
  },
  {
   "cell_type": "code",
   "execution_count": 9,
   "id": "55e64356-96b0-446b-ac41-44ea2946aff4",
   "metadata": {},
   "outputs": [
    {
     "name": "stdout",
     "output_type": "stream",
     "text": [
      "The number 30 is VALID\n"
     ]
    }
   ],
   "source": [
    "valid = False\n",
    "\n",
    "while not valid:\n",
    "    n = input('Type an INTEGER number between 1 and 30: ')\n",
    "    try:\n",
    "        n_float = float(n)\n",
    "        try:\n",
    "            n_int = int(n)\n",
    "            if (1 <= n_int) and (n_int <= 30):\n",
    "                valid = True\n",
    "            else:\n",
    "                print('Number must be BETWEEN 1 and 30!')\n",
    "        except:\n",
    "            print('Number must be INTEGER!')\n",
    "    except:\n",
    "        print('Type a NUMBER, not a text!')\n",
    "\n",
    "print(f'The number {n_int} is VALID')"
   ]
  },
  {
   "cell_type": "markdown",
   "id": "18afb044-81dd-4e29-aed8-6a3bdbbc33cc",
   "metadata": {},
   "source": [
    "## 02 Measuring run time"
   ]
  },
  {
   "cell_type": "code",
   "execution_count": 10,
   "id": "d3f5de2b-6eae-4f18-895c-55500443c074",
   "metadata": {},
   "outputs": [],
   "source": [
    "import time as tm, winsound as ws\n",
    "\n",
    "starttime = tm.time() # start measuring runtime"
   ]
  },
  {
   "cell_type": "code",
   "execution_count": 11,
   "id": "bd54f7d1-9d0c-4698-a9f3-3e19ed067a55",
   "metadata": {},
   "outputs": [],
   "source": [
    "# define function: measure runtime\n",
    "def runtime(start, end):\n",
    "    hour, remainder = divmod(end - start, 3600)\n",
    "    minute, second = divmod(remainder, 60)\n",
    "    return 'Runtime: {:0>2}:{:0>2}:{:05.2f}'.format(int(hour), int(minute), second)"
   ]
  },
  {
   "cell_type": "markdown",
   "id": "66a03464-10c2-4b4b-8169-056f9d0a3b95",
   "metadata": {},
   "source": [
    "## 03 Create custom function"
   ]
  },
  {
   "cell_type": "code",
   "execution_count": 12,
   "id": "304de2b0-96b5-4fbe-868d-2999f68ca6d7",
   "metadata": {},
   "outputs": [],
   "source": [
    "def is_divisible(number, divisor):\n",
    "    if divisor == 0:\n",
    "        return False  # division by zero is invalid\n",
    "    else:\n",
    "        pass\n",
    "    return number % divisor == 0"
   ]
  },
  {
   "cell_type": "markdown",
   "id": "6857e30c-daf6-4c63-956e-8f042e664538",
   "metadata": {},
   "source": [
    "## 04 Divisibility test"
   ]
  },
  {
   "cell_type": "code",
   "execution_count": 13,
   "id": "d806c744-edeb-4e17-9e3a-17492a4c6d6d",
   "metadata": {
    "scrolled": true
   },
   "outputs": [
    {
     "name": "stdout",
     "output_type": "stream",
     "text": [
      "2 is EVEN number.\n",
      "3 is DIVISIBLE BY 3.\n",
      "4 is EVEN number.\n",
      "6 is EVEN number and also DIVISIBLE BY 3.\n",
      "8 is EVEN number.\n",
      "9 is DIVISIBLE BY 3.\n",
      "10 is EVEN number.\n",
      "12 is EVEN number and also DIVISIBLE BY 3.\n",
      "14 is EVEN number.\n",
      "15 is DIVISIBLE BY 3.\n",
      "16 is EVEN number.\n",
      "18 is EVEN number and also DIVISIBLE BY 3.\n",
      "20 is EVEN number.\n",
      "21 is DIVISIBLE BY 3.\n",
      "22 is EVEN number.\n",
      "24 is EVEN number and also DIVISIBLE BY 3.\n",
      "26 is EVEN number.\n",
      "27 is DIVISIBLE BY 3.\n",
      "28 is EVEN number.\n",
      "30 is EVEN number and also DIVISIBLE BY 3.\n"
     ]
    }
   ],
   "source": [
    "for i in range(1, n_int+1):\n",
    "    if is_divisible(i, 2) and is_divisible(i, 3):\n",
    "        print(f'{i} is EVEN number and also DIVISIBLE BY 3.')\n",
    "    elif is_divisible(i, 2):\n",
    "        print(f'{i} is EVEN number.')    \n",
    "    elif is_divisible(i, 3):\n",
    "        print(f'{i} is DIVISIBLE BY 3.')\n",
    "    else:\n",
    "        pass"
   ]
  },
  {
   "cell_type": "code",
   "execution_count": 14,
   "id": "6a8694b2-4071-45e8-8c96-d256c7931d89",
   "metadata": {},
   "outputs": [],
   "source": [
    "### beep sound\n",
    "frequency = 840 #Hz\n",
    "duration = 1000 # milisecond\n",
    "\n",
    "ws.Beep(frequency, duration)"
   ]
  },
  {
   "cell_type": "code",
   "execution_count": 15,
   "id": "4c5f5d2b-c922-4687-b310-6a2227ceec58",
   "metadata": {},
   "outputs": [
    {
     "name": "stdout",
     "output_type": "stream",
     "text": [
      "Divisibility test has been done on the number 30.\n"
     ]
    }
   ],
   "source": [
    "print(f'Divisibility test has been done on the number {n_int}.')"
   ]
  },
  {
   "cell_type": "code",
   "execution_count": 16,
   "id": "de7bcfe7-d268-4be0-baa3-448ae5871baf",
   "metadata": {},
   "outputs": [
    {
     "name": "stdout",
     "output_type": "stream",
     "text": [
      "Program has terminated. Runtime: 00:00:01.12\n"
     ]
    }
   ],
   "source": [
    "endtime = tm.time()\n",
    "\n",
    "print(f'Program has terminated. {runtime(starttime, endtime)}') # write out runtime - call function"
   ]
  }
 ],
 "metadata": {
  "kernelspec": {
   "display_name": ".venv",
   "language": "python",
   "name": "python3"
  },
  "language_info": {
   "codemirror_mode": {
    "name": "ipython",
    "version": 3
   },
   "file_extension": ".py",
   "mimetype": "text/x-python",
   "name": "python",
   "nbconvert_exporter": "python",
   "pygments_lexer": "ipython3",
   "version": "3.12.7"
  }
 },
 "nbformat": 4,
 "nbformat_minor": 5
}
