{
 "cells": [
  {
   "cell_type": "markdown",
   "id": "a9a55e98",
   "metadata": {},
   "source": [
    "# Transforming text"
   ]
  },
  {
   "cell_type": "code",
   "execution_count": 1,
   "id": "08c346a9-6a6f-4287-809b-7600ee5a7c22",
   "metadata": {},
   "outputs": [
    {
     "data": {
      "text/plain": [
       "'Python is a high-level, general-purpose programming language. Its design philosophy emphasizes code readability. Guido van Rossum, a Dutch computer programmer, began working on Python in the late 1980s as a successor to the ABC programming language, and first released it as Python 0.9.0 in 1991. Python 2.0 was released in 2000, and Python 3.0, released in 2008, was a major revision not completely backward-compatible with earlier versions. Python consistently ranks as one of the most popular programming languages. The developers of Python     aim for it to be fun to use. This is reflected in its name, a tribute to the      British comedy group Monty Python, and in occasionally playful approaches to tutorials       and reference materials.'"
      ]
     },
     "execution_count": 1,
     "metadata": {},
     "output_type": "execute_result"
    }
   ],
   "source": [
    "# Assign text to a variable\n",
    "\n",
    "# Break the text into multiple program lines in the cell\n",
    "\n",
    "text = 'Python is a high-level, general-purpose programming language. \\\n",
    "Its design philosophy emphasizes code readability. Guido van Rossum, a Dutch computer \\\n",
    "programmer, began working on Python in the late 1980s as a successor to the ABC \\\n",
    "programming language, and first released it as Python 0.9.0 in 1991. Python 2.0 was \\\n",
    "released in 2000, and Python 3.0, released in 2008, was a major revision not completely \\\n",
    "backward-compatible with earlier versions. Python consistently ranks as one of the most \\\n",
    "popular programming languages. The developers of Python     aim for it to be fun to use. \\\n",
    "This is reflected in its name, a tribute to the      British comedy group Monty Python, \\\n",
    "and in occasionally playful approaches to tutorials       and reference materials.'\n",
    "\n",
    "text"
   ]
  },
  {
   "cell_type": "code",
   "execution_count": 2,
   "id": "37889515-4c56-419a-9cae-f74d5968977b",
   "metadata": {},
   "outputs": [
    {
     "data": {
      "text/plain": [
       "'Python is a high-level, general-purpose programming language. Its design philosophy emphasizes code readability. Guido van Rossum, a Dutch computer programmer, began working on Python in the late 1980s as a successor to the ABC programming language, and first released it as Python 0.9.0 in 1991. Python 2.0 was released in 2000, and Python 3.0, released in 2008, was a major revision not completely backward-compatible with earlier versions. Python consistently ranks as one of the most popular programming languages. The developers of Python aim for it to be fun to use. This is reflected in its name, a tribute to the British comedy group Monty Python, and in occasionally playful approaches to tutorials and reference materials.'"
      ]
     },
     "execution_count": 2,
     "metadata": {},
     "output_type": "execute_result"
    }
   ],
   "source": [
    "# Remove all the unnecessary spaces from the text\n",
    "\n",
    "# Split the string at the specified separator (default: space), and returns a list\n",
    "\n",
    "# Join the elements of the list and returns a string\n",
    "\n",
    "text = ' '.join(text.split())\n",
    "\n",
    "text"
   ]
  },
  {
   "cell_type": "code",
   "execution_count": 3,
   "id": "2db58ade-aeac-498b-ac65-5941ce531868",
   "metadata": {},
   "outputs": [
    {
     "data": {
      "text/plain": [
       "'PYTHON is a high-level, general-purpose programming language. Its design philosophy emphasizes code readability. Guido van Rossum, a Dutch computer programmer, began working on PYTHON in the late 1980s as a successor to the ABC programming language, and first released it as PYTHON 0.9.0 in 1991. PYTHON 2.0 was released in 2000, and PYTHON 3.0, released in 2008, was a major revision not completely backward-compatible with earlier versions. PYTHON consistently ranks as one of the most popular programming languages. The developers of PYTHON aim for it to be fun to use. This is reflected in its name, a tribute to the British comedy group Monty PYTHON, and in occasionally playful approaches to tutorials and reference materials.'"
      ]
     },
     "execution_count": 3,
     "metadata": {},
     "output_type": "execute_result"
    }
   ],
   "source": [
    "# Replace all “Python” words to upper case\n",
    "\n",
    "substring = 'Python'\n",
    "text = text.replace(substring, substring.upper())\n",
    "\n",
    "text"
   ]
  },
  {
   "cell_type": "code",
   "execution_count": 4,
   "id": "e56c98c8-85de-4f4e-acde-d30797ffdc53",
   "metadata": {},
   "outputs": [
    {
     "data": {
      "text/plain": [
       "'PYTHON is a high-level, general-purpose programming language. Its design philosophy emphasizes code readability. Guido van Rossum, a Dutch computer programmer, began working on PYTHON in the late 1980s as a successor to the ABC programming language, and first released it as PYTHON 0_9_0 in 1991. PYTHON 2_0 was released in 2000, and PYTHON 3_0, released in 2008, was a major revision not completely backward-compatible with earlier versions. PYTHON consistently ranks as one of the most popular programming languages. The developers of PYTHON aim for it to be fun to use. This is reflected in its name, a tribute to the British comedy group Monty PYTHON, and in occasionally playful approaches to tutorials and reference materials.'"
      ]
     },
     "execution_count": 4,
     "metadata": {},
     "output_type": "execute_result"
    }
   ],
   "source": [
    "# Within version numbers, change points (.) to underscores (_)\n",
    "\n",
    "text = text.replace('0.', '0_')\n",
    "\n",
    "text = text.replace('.0', '_0')\n",
    "\n",
    "text"
   ]
  },
  {
   "cell_type": "code",
   "execution_count": 5,
   "id": "eb4127f8-374d-4c1e-954e-8291f60e4c0a",
   "metadata": {},
   "outputs": [
    {
     "name": "stdout",
     "output_type": "stream",
     "text": [
      "PYTHON is a high-level, general-purpose programming language.\n",
      "Its design philosophy emphasizes code readability.\n",
      "Guido van Rossum, a Dutch computer programmer, began working on PYTHON in the late 1980s as a successor to the ABC programming language, and first released it as PYTHON 0_9_0 in 1991.\n",
      "PYTHON 2_0 was released in 2000, and PYTHON 3_0, released in 2008, was a major revision not completely backward-compatible with earlier versions.\n",
      "PYTHON consistently ranks as one of the most popular programming languages.\n",
      "The developers of PYTHON aim for it to be fun to use.\n",
      "This is reflected in its name, a tribute to the British comedy group Monty PYTHON, and in occasionally playful approaches to tutorials and reference materials.\n"
     ]
    }
   ],
   "source": [
    "# Insert line breaks after the end of each sentence\n",
    "\n",
    "# Write out the cleaned text by print()\n",
    "\n",
    "text = text.replace('. ', '.\\n')\n",
    "\n",
    "print(text)"
   ]
  },
  {
   "cell_type": "code",
   "execution_count": 6,
   "id": "7e74085a-746d-453d-811d-6febdf22d1b4",
   "metadata": {},
   "outputs": [
    {
     "name": "stdout",
     "output_type": "stream",
     "text": [
      "The very first version of the Python is PYTHON 0_9_0 and the year of the release is 1991.\n"
     ]
    }
   ],
   "source": [
    "\"\"\" Find the position of the very first release of Python in the text,\\\n",
    "then use the slicing to write out only that part of the text\n",
    "which contains the name of the first release version and the year \"\"\"\n",
    "\n",
    "# Print a final message to the user\n",
    "\n",
    "version_start = text.find('_') - 8\n",
    "version_end = text.find('_') + 4\n",
    "version_name = text[version_start : version_end]\n",
    "\n",
    "released_start = text.find('.', text.find('_')) - 4\n",
    "released_end = text.find('.', text.find('_'))\n",
    "released_year = text[released_start : released_end]\n",
    "\n",
    "print(f'The very first version of the Python is {version_name} and the year of the release is {released_year}.')"
   ]
  }
 ],
 "metadata": {
  "kernelspec": {
   "display_name": ".venv",
   "language": "python",
   "name": "python3"
  },
  "language_info": {
   "codemirror_mode": {
    "name": "ipython",
    "version": 3
   },
   "file_extension": ".py",
   "mimetype": "text/x-python",
   "name": "python",
   "nbconvert_exporter": "python",
   "pygments_lexer": "ipython3",
   "version": "3.12.7"
  }
 },
 "nbformat": 4,
 "nbformat_minor": 5
}
