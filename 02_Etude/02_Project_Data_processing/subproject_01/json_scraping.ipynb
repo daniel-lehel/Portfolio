{
 "cells": [
  {
   "cell_type": "markdown",
   "id": "ab88f967-3465-4118-9e74-7bc2ce76b33c",
   "metadata": {},
   "source": [
    "## Section initial"
   ]
  },
  {
   "cell_type": "markdown",
   "id": "e0966022-07b2-46f4-aaff-cf96b9318785",
   "metadata": {},
   "source": [
    "### Import necessarry modules"
   ]
  },
  {
   "cell_type": "code",
   "execution_count": 1,
   "id": "998cd8fa-eff1-4620-980f-109837fe6193",
   "metadata": {},
   "outputs": [],
   "source": [
    "# import necessarry modules\n",
    "import pandas as pd, os, json, winsound as ws, time as tm\n",
    "# start running time\n",
    "starttime = tm.time()"
   ]
  },
  {
   "cell_type": "markdown",
   "id": "c6d9ba16-6980-4898-85db-9fb8fc85192e",
   "metadata": {},
   "source": [
    "### Base data"
   ]
  },
  {
   "cell_type": "code",
   "execution_count": 2,
   "id": "d2977162-1b4a-4c65-a744-f0d3d3b7b602",
   "metadata": {},
   "outputs": [],
   "source": [
    "# base data\n",
    "basepath = r'C:\\Users\\admin\\Codes\\Portfolio\\02_Etude\\02_Project_Data_processing\\subproject_01'\n",
    "inputfolder_path  = r'data'\n",
    "filename = 'spotify_playlist.json'\n",
    "file_path = os.path.join(basepath, inputfolder_path, filename)"
   ]
  },
  {
   "cell_type": "markdown",
   "id": "d53829de-128e-460d-a5b9-72b759779429",
   "metadata": {},
   "source": [
    "### Start measuring runtime"
   ]
  },
  {
   "cell_type": "code",
   "execution_count": 3,
   "id": "6dd794f0-b02e-453b-a5e2-8c4a113a99cb",
   "metadata": {},
   "outputs": [],
   "source": [
    "# define function: measure runtime\n",
    "def runtime(start, end):\n",
    "    hour, remainder = divmod(end - start, 3600)\n",
    "    minute, second = divmod(remainder, 60)\n",
    "    return 'Runtime: {:0>2}:{:0>2}:{:05.2f}'.format(int(hour), int(minute), second)"
   ]
  },
  {
   "cell_type": "markdown",
   "id": "02874307-0ab6-4805-82d8-a310b0a5001a",
   "metadata": {},
   "source": [
    "## Section main"
   ]
  },
  {
   "cell_type": "code",
   "execution_count": 4,
   "id": "81634a20-d4b2-45c2-a1ab-b062dd363a4d",
   "metadata": {},
   "outputs": [],
   "source": [
    "# load data from source json file\n",
    "with open(file_path, 'r') as json_file:\n",
    "    data = json.load(json_file)"
   ]
  },
  {
   "cell_type": "code",
   "execution_count": 5,
   "id": "8bffc7e7",
   "metadata": {},
   "outputs": [
    {
     "name": "stdout",
     "output_type": "stream",
     "text": [
      "Style\n"
     ]
    }
   ],
   "source": [
    "# print out the name of the 31st track\n",
    "print(data['contents']['items'][30]['name'])"
   ]
  },
  {
   "cell_type": "code",
   "execution_count": 6,
   "id": "e1e8dacc",
   "metadata": {},
   "outputs": [
    {
     "name": "stdout",
     "output_type": "stream",
     "text": [
      "31309112207\n"
     ]
    }
   ],
   "source": [
    "# summerize the play counts\n",
    "total_playCount = 0\n",
    "\n",
    "for track in data['contents']['items']:\n",
    "    total_playCount += track['playCount']\n",
    "\n",
    "# print out the number of the summerized playcount\n",
    "print(total_playCount)"
   ]
  },
  {
   "cell_type": "code",
   "execution_count": 7,
   "id": "d204f6c0",
   "metadata": {},
   "outputs": [
    {
     "name": "stdout",
     "output_type": "stream",
     "text": [
      "The track with the lowest playcount is: Si No Estás.\n"
     ]
    }
   ],
   "source": [
    "# create a list of playcounts\n",
    "list_track_playCount = []\n",
    "\n",
    "for track in data['contents']['items']:\n",
    "    list_track_playCount.append({'track_name' : track['name'], 'playcount' : track['playCount']})\n",
    "    \n",
    "# find the track with lowest number of playcounts\n",
    "lowest_playCount_track = min(list_track_playCount, key = lambda x: x['playcount'])\n",
    "\n",
    "# print out the name of the track with the lowest playcount\n",
    "print(f'The track with the lowest playcount is: {lowest_playCount_track['track_name']}.')"
   ]
  },
  {
   "cell_type": "markdown",
   "id": "42e9c462-b40e-45ac-bb52-f26b65c07ad3",
   "metadata": {},
   "source": [
    "## Section final"
   ]
  },
  {
   "cell_type": "markdown",
   "id": "b873ab2d-3fed-4daa-b85c-ac3589140668",
   "metadata": {},
   "source": [
    "### Notification sound"
   ]
  },
  {
   "cell_type": "code",
   "execution_count": 8,
   "id": "8488431c-1d19-4ae9-b80e-811241090b8d",
   "metadata": {},
   "outputs": [],
   "source": [
    "# beep sound (for notifications)\n",
    "frequency = 840 #Hz\n",
    "duration = 1000 # milisecond\n",
    "\n",
    "ws.Beep(frequency, duration)"
   ]
  },
  {
   "cell_type": "markdown",
   "id": "58d83750-554d-4fdb-acd8-d076e9b5a5aa",
   "metadata": {},
   "source": [
    "### Show runtime"
   ]
  },
  {
   "cell_type": "code",
   "execution_count": 9,
   "id": "db0a1a33-6bcb-46b0-ae95-22cb3b8907af",
   "metadata": {},
   "outputs": [
    {
     "data": {
      "text/plain": [
       "'Runtime: 00:00:01.19'"
      ]
     },
     "execution_count": 9,
     "metadata": {},
     "output_type": "execute_result"
    }
   ],
   "source": [
    "endtime = tm.time()\n",
    "# write out runtime - call function\n",
    "runtime(starttime, endtime)"
   ]
  },
  {
   "cell_type": "markdown",
   "id": "03672c1c-cc9c-4754-9be4-831515f884ff",
   "metadata": {},
   "source": [
    "### Final message to the user"
   ]
  },
  {
   "cell_type": "code",
   "execution_count": 10,
   "id": "b30af06a-d236-448b-afcc-d682d0ecb5fd",
   "metadata": {},
   "outputs": [
    {
     "name": "stdout",
     "output_type": "stream",
     "text": [
      "Program has terminated.\n"
     ]
    }
   ],
   "source": [
    "print('Program has terminated.')"
   ]
  }
 ],
 "metadata": {
  "kernelspec": {
   "display_name": "venv",
   "language": "python",
   "name": "python3"
  },
  "language_info": {
   "codemirror_mode": {
    "name": "ipython",
    "version": 3
   },
   "file_extension": ".py",
   "mimetype": "text/x-python",
   "name": "python",
   "nbconvert_exporter": "python",
   "pygments_lexer": "ipython3",
   "version": "3.12.7"
  }
 },
 "nbformat": 4,
 "nbformat_minor": 5
}
