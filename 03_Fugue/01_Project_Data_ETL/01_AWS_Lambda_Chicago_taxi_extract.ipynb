{
 "cells": [
  {
   "cell_type": "markdown",
   "metadata": {},
   "source": [
    "# Chicago taxi extract"
   ]
  },
  {
   "cell_type": "markdown",
   "metadata": {},
   "source": [
    "## Section initial"
   ]
  },
  {
   "cell_type": "markdown",
   "metadata": {},
   "source": [
    "### Import necessarry modules"
   ]
  },
  {
   "cell_type": "code",
   "execution_count": null,
   "metadata": {},
   "outputs": [],
   "source": [
    "from datetime import datetime\n",
    "from dateutil.relativedelta import relativedelta\n",
    "import json\n",
    "import os\n",
    "import requests\n",
    "import boto3\n",
    "from typing import List, Dict"
   ]
  },
  {
   "cell_type": "markdown",
   "metadata": {},
   "source": [
    "### Define functions"
   ]
  },
  {
   "cell_type": "code",
   "execution_count": null,
   "metadata": {},
   "outputs": [],
   "source": [
    "def get_taxi_data(formatted_datetime: str) -> List:\n",
    "    \"\"\"\n",
    "    Retrieves taxi data from the Chicago Taxi Data API for a specific date (YYYY-MM-DD).\n",
    "\n",
    "    Args:\n",
    "        formatted_datetime (str): The date in the format 'YYYY-MM-DD'.\n",
    "\n",
    "    Returns:\n",
    "        List: A list of taxi data records for the specified date.\n",
    "    \"\"\"\n",
    "    taxi_url = (\n",
    "        f\"https://data.cityofchicago.org/resource/ajtu-isnz.json?\"\n",
    "        f\"$where=trip_start_timestamp >= '{formatted_datetime}T00:00:00' \"\n",
    "        f\"AND trip_start_timestamp <= '{formatted_datetime}T23:59:59'&$limit=30000\"\n",
    "    )\n",
    "\n",
    "    response_taxi = requests.get(taxi_url)\n",
    "    taxi_data = response_taxi.json()\n",
    "\n",
    "    return taxi_data"
   ]
  },
  {
   "cell_type": "code",
   "execution_count": null,
   "metadata": {},
   "outputs": [],
   "source": [
    "def get_weather_data(formatted_datetime: str) -> List:\n",
    "    \"\"\"\n",
    "    Retrieves weather data from the Open-Meteo API for a specific date (YYYY-MM-DD).\n",
    "\n",
    "    Args:\n",
    "        formatted_datetime (str): The date in the format 'YYYY-MM-DD'.\n",
    "\n",
    "    Returns:\n",
    "        List: A list of weather data records for the specified date.\n",
    "    \"\"\"\n",
    "    weather_url = \"https://archive-api.open-meteo.com/v1/era5\"\n",
    "\n",
    "    params = {\n",
    "        \"latitude\": 41.85,\n",
    "        \"longitude\": -87.65,\n",
    "        \"start_date\": formatted_datetime,\n",
    "        \"end_date\": formatted_datetime,\n",
    "        \"hourly\": \"temperature_2m,wind_speed_10m,rain,precipitation\"\n",
    "    }\n",
    "\n",
    "    response_weather = requests.get(weather_url, params = params)\n",
    "    weather_data = response_weather.json()\n",
    "\n",
    "    return weather_data"
   ]
  },
  {
   "cell_type": "code",
   "execution_count": null,
   "metadata": {},
   "outputs": [],
   "source": [
    "def upload_to_s3(data: Dict, folder_name: str, file_name: str) -> None:\n",
    "    \"\"\"\n",
    "    Uploads data to an S3 bucket.\n",
    "\n",
    "    Args:\n",
    "        data (Dict): The data to be uploaded.\n",
    "        folder_name (str): The name of the folder in the S3 bucket.\n",
    "        file_name (str): The name of the file to be uploaded.\n",
    "\n",
    "    Returns:\n",
    "        None\n",
    "    \"\"\"\n",
    "    client = boto3.client('s3')\n",
    "    client.put_object(\n",
    "        Bucket = 'cubix-chicago-taxi-ld',\n",
    "        Key = f'raw_data/to_processed/{folder_name}/{file_name}',\n",
    "        Body = json.dumps(data)\n",
    "    )"
   ]
  },
  {
   "cell_type": "markdown",
   "metadata": {},
   "source": [
    "## Section main"
   ]
  },
  {
   "cell_type": "code",
   "execution_count": null,
   "metadata": {},
   "outputs": [],
   "source": [
    "def lambda_handler(event, context):\n",
    "    current_datetime = datetime.now() - relativedelta(months=2) # 2 months earlier from now\n",
    "    formatted_datetime = current_datetime.strftime(\"%Y-%m-%d\")\n",
    "\n",
    "    taxi_data_api_call = get_taxi_data(formatted_datetime)\n",
    "    weather_data_api_call = get_weather_data(formatted_datetime)\n",
    "\n",
    "    taxi_file_name = f'taxi_raw_{formatted_datetime}.json'\n",
    "    weather_file_name = f'weather_raw_{formatted_datetime}.json'\n",
    "\n",
    "    upload_to_s3(data = taxi_data_api_call, folder_name = 'taxi_data', file_name = taxi_file_name)\n",
    "    print('Taxi data has been uploaded.')\n",
    "\n",
    "    upload_to_s3(data = weather_data_api_call, folder_name = 'weather_data', file_name = weather_file_name)\n",
    "    print('Weather data has been uploaded.')"
   ]
  }
 ],
 "metadata": {
  "kernelspec": {
   "display_name": "base",
   "language": "python",
   "name": "python3"
  },
  "language_info": {
   "name": "python",
   "version": "3.12.7"
  }
 },
 "nbformat": 4,
 "nbformat_minor": 2
}
